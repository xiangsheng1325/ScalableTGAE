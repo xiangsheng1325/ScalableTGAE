{
 "cells": [
  {
   "cell_type": "code",
   "execution_count": 1,
   "id": "9c1a892f-9f77-4de9-a056-d470a1d8d6c2",
   "metadata": {},
   "outputs": [],
   "source": [
    "import pandas as pd\n",
    "import numpy as np\n",
    "import scipy.sparse as sp\n",
    "# 读取数据并预处理\n",
    "data_file = \"data/game/network0.csv\"  # 替换为你的数据文件路径\n",
    "data = pd.read_csv(data_file)\n",
    "\n",
    "# 提取时间列和边列\n",
    "time_col = \"TIME\"\n",
    "edge_cols = [col for col in data.columns if col != time_col]\n",
    "\n",
    "# 获取所有节点名称（列名中的 P1, P2 等）\n",
    "all_nodes = sorted(set(node.split(\"_TO_\")[0] for node in edge_cols)|set(node.split(\"_TO_\")[1] for node in edge_cols))\n",
    "num_nodes = len(all_nodes)\n",
    "node_index = {node: i for i, node in enumerate(all_nodes)}\n",
    "\n",
    "# 初始化 T x N x N 矩阵\n",
    "timesteps = data[time_col].unique()\n",
    "T = len(timesteps)\n",
    "N = num_nodes\n",
    "adj_matrices = np.zeros((T, N, N), dtype=int)\n",
    "\n",
    "# 构造邻接矩阵\n",
    "for t_idx, timestep in enumerate(timesteps):\n",
    "    # 获取当前时间戳的边数据\n",
    "    snapshot = data[data[time_col] == timestep]\n",
    "    \n",
    "    for edge in edge_cols:\n",
    "        value = snapshot[edge].values[0]  # 当前时间戳该边的值\n",
    "        if value == 1:\n",
    "            node1, node2 = edge.split(\"_TO_\")\n",
    "            i, j = node_index[node1], node_index[node2]\n",
    "            adj_matrices[t_idx, i, j] = 1\n",
    "            adj_matrices[t_idx, j, i] = 1  # 无向性\n",
    "\n",
    "# 将稀疏矩阵转换为压缩行格式\n",
    "sparse_matrices = [sp.csr_matrix(adj_matrix) for adj_matrix in adj_matrices]\n",
    "# 假设 sparse_matrices 是一个包含多个 csr_matrix 的列表\n",
    "adj_data = np.concatenate([mat.data for mat in sparse_matrices])\n",
    "adj_indices = np.concatenate([mat.indices for mat in sparse_matrices])\n",
    "\n",
    "# 正确合并 indptr\n",
    "indptr_list = [mat.indptr for mat in sparse_matrices]\n",
    "offsets = np.cumsum([0] + [len(mat.data) for mat in sparse_matrices[:-1]])\n",
    "#adj_indptr = np.concatenate([indptr + offset for indptr, offset in zip(indptr_list, offsets)])\n",
    "adj_indptr = np.concatenate([indptr[:-1] + offset for indptr, offset in zip(indptr_list, offsets)])\n",
    "adj_indptr = np.append(adj_indptr, indptr_list[-1][-1] + offsets[-1])\n",
    "# 假设所有矩阵形状相同\n",
    "adj_shape = (sum(mat.shape[0] for mat in sparse_matrices), sparse_matrices[0].shape[1])\n",
    "\n",
    "adj_dict = {\n",
    "    'adj_data': adj_data,\n",
    "    'adj_indices': adj_indices,\n",
    "    'adj_indptr': adj_indptr,\n",
    "    'adj_shape': adj_shape\n",
    "}\n",
    "\n",
    "# 保存字典\n",
    "np.save('game_network_0.npy', adj_dict)\n",
    "# 保存为字典格式\n",
    "#np.save(\"game_network_0.npy\", adj_dict)\n",
    "# 输出结果\n",
    "#print(\"Temporal Adjacency Matrix Shape:\", adj_matrices.shape)\n",
    "\n",
    "# 如果需要保存结果为文件，例如 numpy 的 .npy 文件\n",
    "#np.save(\"game_network_0.npy\", adj_matrices)\n"
   ]
  },
  {
   "cell_type": "code",
   "execution_count": 2,
   "id": "aa9b2528-2f8f-4892-b18e-6a0095ffee17",
   "metadata": {},
   "outputs": [
    {
     "data": {
      "text/plain": [
       "['LAPTOP', 'P1', 'P2', 'P3', 'P4', 'P5', 'P6', 'P7']"
      ]
     },
     "execution_count": 2,
     "metadata": {},
     "output_type": "execute_result"
    }
   ],
   "source": [
    "all_nodes"
   ]
  },
  {
   "cell_type": "code",
   "execution_count": null,
   "id": "e04641cf-6c48-41c4-a9ac-5dd74d516ca0",
   "metadata": {},
   "outputs": [],
   "source": []
  }
 ],
 "metadata": {
  "kernelspec": {
   "display_name": "ScalableTGAE",
   "language": "python",
   "name": "python3"
  },
  "language_info": {
   "codemirror_mode": {
    "name": "ipython",
    "version": 3
   },
   "file_extension": ".py",
   "mimetype": "text/x-python",
   "name": "python",
   "nbconvert_exporter": "python",
   "pygments_lexer": "ipython3",
   "version": "3.11.11"
  }
 },
 "nbformat": 4,
 "nbformat_minor": 5
}
